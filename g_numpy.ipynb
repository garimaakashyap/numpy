{
  "nbformat": 4,
  "nbformat_minor": 0,
  "metadata": {
    "colab": {
      "provenance": [],
      "authorship_tag": "ABX9TyO6wA0SM61hcy+Xb9qPcBZV",
      "include_colab_link": true
    },
    "kernelspec": {
      "name": "python3",
      "display_name": "Python 3"
    },
    "language_info": {
      "name": "python"
    }
  },
  "cells": [
    {
      "cell_type": "markdown",
      "metadata": {
        "id": "view-in-github",
        "colab_type": "text"
      },
      "source": [
        "<a href=\"https://colab.research.google.com/github/garimaakashyap/numpy/blob/main/g_numpy.ipynb\" target=\"_parent\"><img src=\"https://colab.research.google.com/assets/colab-badge.svg\" alt=\"Open In Colab\"/></a>"
      ]
    },
    {
      "cell_type": "markdown",
      "source": [
        "# NUMPY"
      ],
      "metadata": {
        "id": "hp5P6B_kpf38"
      }
    },
    {
      "cell_type": "code",
      "source": [
        "# garima learning numpy library of python"
      ],
      "metadata": {
        "id": "LKUgtHPcrhb5"
      },
      "execution_count": 31,
      "outputs": []
    },
    {
      "cell_type": "markdown",
      "source": [
        "NumPy is a general-purpose array-processing package."
      ],
      "metadata": {
        "id": "8Ca-7IfYsIe1"
      }
    },
    {
      "cell_type": "markdown",
      "source": [
        "It provides a high-performance mutlidimensional array object, and tools for working with these arrays."
      ],
      "metadata": {
        "id": "5ugGEaxfp1dv"
      }
    },
    {
      "cell_type": "markdown",
      "source": [
        "It is the fundamental package for scientific computing with Python."
      ],
      "metadata": {
        "id": "30FvtNcoqEdP"
      }
    },
    {
      "cell_type": "code",
      "source": [
        "# first we have to install the nump\n"
      ],
      "metadata": {
        "id": "xMHGxkefqNI5"
      },
      "execution_count": 32,
      "outputs": []
    },
    {
      "cell_type": "code",
      "source": [
        "# we have to import the numpy\n",
        "import numpy as np"
      ],
      "metadata": {
        "id": "qpCla8HSrWu8"
      },
      "execution_count": 33,
      "outputs": []
    },
    {
      "cell_type": "code",
      "source": [
        "my_lst = [1,2,3,4,5]\n",
        "arr = np.array(my_lst)"
      ],
      "metadata": {
        "id": "_ySMt7gfrw5_"
      },
      "execution_count": 34,
      "outputs": []
    },
    {
      "cell_type": "code",
      "source": [
        "type(arr)"
      ],
      "metadata": {
        "colab": {
          "base_uri": "https://localhost:8080/"
        },
        "id": "XTVieSxXsAnl",
        "outputId": "b9b006d5-8ab5-4730-e694-839b4b129ff7"
      },
      "execution_count": 35,
      "outputs": [
        {
          "output_type": "execute_result",
          "data": {
            "text/plain": [
              "numpy.ndarray"
            ]
          },
          "metadata": {},
          "execution_count": 35
        }
      ]
    },
    {
      "cell_type": "code",
      "source": [
        "arr"
      ],
      "metadata": {
        "colab": {
          "base_uri": "https://localhost:8080/"
        },
        "id": "R_AZnpE8sPhF",
        "outputId": "e7b5ae3b-75a7-4c48-9e74-687fc727424e"
      },
      "execution_count": 36,
      "outputs": [
        {
          "output_type": "execute_result",
          "data": {
            "text/plain": [
              "array([1, 2, 3, 4, 5])"
            ]
          },
          "metadata": {},
          "execution_count": 36
        }
      ]
    },
    {
      "cell_type": "code",
      "source": [
        "print(my_lst)\n",
        "print(arr)"
      ],
      "metadata": {
        "colab": {
          "base_uri": "https://localhost:8080/"
        },
        "id": "_yhAlep6sV-R",
        "outputId": "541cbc1e-4c11-4cbd-b903-107f82215eb2"
      },
      "execution_count": 37,
      "outputs": [
        {
          "output_type": "stream",
          "name": "stdout",
          "text": [
            "[1, 2, 3, 4, 5]\n",
            "[1 2 3 4 5]\n"
          ]
        }
      ]
    },
    {
      "cell_type": "code",
      "source": [
        "# telling the length of the array\n",
        "arr.shape"
      ],
      "metadata": {
        "colab": {
          "base_uri": "https://localhost:8080/"
        },
        "id": "L8fauQsVslAF",
        "outputId": "3d5bf858-d78a-4019-cdaa-e765fff5e20a"
      },
      "execution_count": 38,
      "outputs": [
        {
          "output_type": "execute_result",
          "data": {
            "text/plain": [
              "(5,)"
            ]
          },
          "metadata": {},
          "execution_count": 38
        }
      ]
    },
    {
      "cell_type": "code",
      "source": [
        "# creating 2d array\n",
        "l1 = [1,2,3,4,5]\n",
        "l2 = [6,7,8,9,10]\n",
        "l3=[11,12,13,14,15]\n",
        "ar = np.array([l1,l2,l3])\n",
        "print(ar)"
      ],
      "metadata": {
        "colab": {
          "base_uri": "https://localhost:8080/"
        },
        "id": "HnHvpBo2tnTN",
        "outputId": "9908a726-d8ba-4171-88f9-164c3c5453f8"
      },
      "execution_count": 39,
      "outputs": [
        {
          "output_type": "stream",
          "name": "stdout",
          "text": [
            "[[ 1  2  3  4  5]\n",
            " [ 6  7  8  9 10]\n",
            " [11 12 13 14 15]]\n"
          ]
        }
      ]
    },
    {
      "cell_type": "code",
      "source": [
        "# checking the size\n",
        "print(ar.shape)\n",
        "\n",
        "# 3 is number of row and 5 is number of column"
      ],
      "metadata": {
        "colab": {
          "base_uri": "https://localhost:8080/"
        },
        "id": "8Q_MnM6tuP1y",
        "outputId": "71dcfcad-2521-4220-a6fb-908acd225f15"
      },
      "execution_count": 40,
      "outputs": [
        {
          "output_type": "stream",
          "name": "stdout",
          "text": [
            "(3, 5)\n"
          ]
        }
      ]
    },
    {
      "cell_type": "code",
      "source": [
        "# changing the shape of the array means its row and column size, but it should be always equal to the rows*columns of the original array\n",
        "print(ar.reshape(5,3))\n",
        "print(ar.shape)\n",
        "print(ar)"
      ],
      "metadata": {
        "colab": {
          "base_uri": "https://localhost:8080/"
        },
        "id": "92pptlReucD_",
        "outputId": "15a00fc7-efc8-4f68-b565-520b25aca9e1"
      },
      "execution_count": 41,
      "outputs": [
        {
          "output_type": "stream",
          "name": "stdout",
          "text": [
            "[[ 1  2  3]\n",
            " [ 4  5  6]\n",
            " [ 7  8  9]\n",
            " [10 11 12]\n",
            " [13 14 15]]\n",
            "(3, 5)\n",
            "[[ 1  2  3  4  5]\n",
            " [ 6  7  8  9 10]\n",
            " [11 12 13 14 15]]\n"
          ]
        }
      ]
    },
    {
      "cell_type": "code",
      "source": [
        "ar.reshape(5,3)"
      ],
      "metadata": {
        "colab": {
          "base_uri": "https://localhost:8080/"
        },
        "id": "mXVpLL2YvC9d",
        "outputId": "2f14039a-259b-4d1c-da77-afe9a8aabc25"
      },
      "execution_count": 42,
      "outputs": [
        {
          "output_type": "execute_result",
          "data": {
            "text/plain": [
              "array([[ 1,  2,  3],\n",
              "       [ 4,  5,  6],\n",
              "       [ 7,  8,  9],\n",
              "       [10, 11, 12],\n",
              "       [13, 14, 15]])"
            ]
          },
          "metadata": {},
          "execution_count": 42
        }
      ]
    },
    {
      "cell_type": "code",
      "source": [
        "ar.reshape(1,15)"
      ],
      "metadata": {
        "colab": {
          "base_uri": "https://localhost:8080/"
        },
        "id": "lexb3zzOvIfn",
        "outputId": "10ab8893-0d0a-41a6-de0d-57fd9378939f"
      },
      "execution_count": 43,
      "outputs": [
        {
          "output_type": "execute_result",
          "data": {
            "text/plain": [
              "array([[ 1,  2,  3,  4,  5,  6,  7,  8,  9, 10, 11, 12, 13, 14, 15]])"
            ]
          },
          "metadata": {},
          "execution_count": 43
        }
      ]
    },
    {
      "cell_type": "code",
      "source": [
        "print(ar.reshape(15,1))"
      ],
      "metadata": {
        "colab": {
          "base_uri": "https://localhost:8080/"
        },
        "id": "ZE4gZ8RlvNxJ",
        "outputId": "80f53438-8fd6-400f-ff4d-2183dad3ba7f"
      },
      "execution_count": 44,
      "outputs": [
        {
          "output_type": "stream",
          "name": "stdout",
          "text": [
            "[[ 1]\n",
            " [ 2]\n",
            " [ 3]\n",
            " [ 4]\n",
            " [ 5]\n",
            " [ 6]\n",
            " [ 7]\n",
            " [ 8]\n",
            " [ 9]\n",
            " [10]\n",
            " [11]\n",
            " [12]\n",
            " [13]\n",
            " [14]\n",
            " [15]]\n"
          ]
        }
      ]
    },
    {
      "cell_type": "code",
      "source": [
        "a = ar.reshape(5,3)\n",
        "print(a)"
      ],
      "metadata": {
        "colab": {
          "base_uri": "https://localhost:8080/"
        },
        "id": "yhs-zioZv9Na",
        "outputId": "3dd60244-4675-4b71-b0de-a10dd118e8cc"
      },
      "execution_count": 45,
      "outputs": [
        {
          "output_type": "stream",
          "name": "stdout",
          "text": [
            "[[ 1  2  3]\n",
            " [ 4  5  6]\n",
            " [ 7  8  9]\n",
            " [10 11 12]\n",
            " [13 14 15]]\n"
          ]
        }
      ]
    },
    {
      "cell_type": "code",
      "source": [
        "# indexing\n",
        "a1 = np.array([10,20,30,40])\n",
        "print(a1)"
      ],
      "metadata": {
        "colab": {
          "base_uri": "https://localhost:8080/"
        },
        "id": "-S6N-XSxw7hu",
        "outputId": "ad014816-8253-4f3a-ab33-6ad3c5459a60"
      },
      "execution_count": 46,
      "outputs": [
        {
          "output_type": "stream",
          "name": "stdout",
          "text": [
            "[10 20 30 40]\n"
          ]
        }
      ]
    },
    {
      "cell_type": "code",
      "source": [
        "print(a1[3])"
      ],
      "metadata": {
        "colab": {
          "base_uri": "https://localhost:8080/"
        },
        "id": "y3uAdLN6xO3S",
        "outputId": "2e5d4d1b-876e-4ef4-946a-366d4a1769ca"
      },
      "execution_count": 47,
      "outputs": [
        {
          "output_type": "stream",
          "name": "stdout",
          "text": [
            "40\n"
          ]
        }
      ]
    },
    {
      "cell_type": "code",
      "source": [
        "# indexing in 2d array\n",
        "\n",
        "a2 = np.array([\n",
        "    [1,2,3,4,5],\n",
        "    [56,67,78,87,102],\n",
        "    [3,4,5,6,7]\n",
        "])\n",
        "print(a2)"
      ],
      "metadata": {
        "colab": {
          "base_uri": "https://localhost:8080/"
        },
        "id": "UT03I1DqxSoy",
        "outputId": "27cb9f39-bb2e-4a58-cab1-b13b75517788"
      },
      "execution_count": 48,
      "outputs": [
        {
          "output_type": "stream",
          "name": "stdout",
          "text": [
            "[[  1   2   3   4   5]\n",
            " [ 56  67  78  87 102]\n",
            " [  3   4   5   6   7]]\n"
          ]
        }
      ]
    },
    {
      "cell_type": "code",
      "source": [
        "for i in a2:\n",
        "  print(a2)"
      ],
      "metadata": {
        "colab": {
          "base_uri": "https://localhost:8080/"
        },
        "id": "pGoeGSvTx5nV",
        "outputId": "295aa1af-5ab3-4926-cc63-13f77854a98d"
      },
      "execution_count": 49,
      "outputs": [
        {
          "output_type": "stream",
          "name": "stdout",
          "text": [
            "[[  1   2   3   4   5]\n",
            " [ 56  67  78  87 102]\n",
            " [  3   4   5   6   7]]\n",
            "[[  1   2   3   4   5]\n",
            " [ 56  67  78  87 102]\n",
            " [  3   4   5   6   7]]\n",
            "[[  1   2   3   4   5]\n",
            " [ 56  67  78  87 102]\n",
            " [  3   4   5   6   7]]\n"
          ]
        }
      ]
    },
    {
      "cell_type": "code",
      "source": [
        "for i in a2:\n",
        "  for j in i:\n",
        "    print(j, end=\" \")\n",
        "  print()"
      ],
      "metadata": {
        "colab": {
          "base_uri": "https://localhost:8080/"
        },
        "id": "XP6_q3GhyE5f",
        "outputId": "c1064aad-fbe1-485c-af5c-c987fb16997e"
      },
      "execution_count": 50,
      "outputs": [
        {
          "output_type": "stream",
          "name": "stdout",
          "text": [
            "1 2 3 4 5 \n",
            "56 67 78 87 102 \n",
            "3 4 5 6 7 \n"
          ]
        }
      ]
    },
    {
      "cell_type": "markdown",
      "source": [
        "for printing particular element or range of elements"
      ],
      "metadata": {
        "id": "GBqDL6F1zaSH"
      }
    },
    {
      "cell_type": "code",
      "source": [
        "# bydefault it will take the whole row and column\n",
        "\n",
        "a2[:,:]"
      ],
      "metadata": {
        "colab": {
          "base_uri": "https://localhost:8080/"
        },
        "id": "7SRGJknuyQAb",
        "outputId": "bfe3242a-eb18-45f4-d154-8e0745fa3ad1"
      },
      "execution_count": 51,
      "outputs": [
        {
          "output_type": "execute_result",
          "data": {
            "text/plain": [
              "array([[  1,   2,   3,   4,   5],\n",
              "       [ 56,  67,  78,  87, 102],\n",
              "       [  3,   4,   5,   6,   7]])"
            ]
          },
          "metadata": {},
          "execution_count": 51
        }
      ]
    },
    {
      "cell_type": "code",
      "source": [
        "# it will exclude 1 and 4 remember\n",
        "\n",
        "print(a2[0:1,2:4])"
      ],
      "metadata": {
        "colab": {
          "base_uri": "https://localhost:8080/"
        },
        "id": "MkuL3aOTzmPn",
        "outputId": "e1527e37-953e-4cea-8664-9e096e759de4"
      },
      "execution_count": 52,
      "outputs": [
        {
          "output_type": "stream",
          "name": "stdout",
          "text": [
            "[[3 4]]\n"
          ]
        }
      ]
    },
    {
      "cell_type": "code",
      "source": [
        "print(a2[1:2,2:3])"
      ],
      "metadata": {
        "colab": {
          "base_uri": "https://localhost:8080/"
        },
        "id": "Sfjq48Ubz_Dg",
        "outputId": "2d342da4-4115-4a77-960d-10339bfc9766"
      },
      "execution_count": 53,
      "outputs": [
        {
          "output_type": "stream",
          "name": "stdout",
          "text": [
            "[[78]]\n"
          ]
        }
      ]
    },
    {
      "cell_type": "code",
      "source": [
        "# copy function and broadcasting\n",
        "\n",
        "arr3 = np.array([1,2,3,4,5,6,7,8,9,10])\n",
        "print(arr3)\n",
        "\n",
        "arr3[4:] = 108\n",
        "print(arr3)"
      ],
      "metadata": {
        "colab": {
          "base_uri": "https://localhost:8080/"
        },
        "id": "dQN-VvNXHZ86",
        "outputId": "b04091da-8201-409f-efcc-d25f85914358"
      },
      "execution_count": 54,
      "outputs": [
        {
          "output_type": "stream",
          "name": "stdout",
          "text": [
            "[ 1  2  3  4  5  6  7  8  9 10]\n",
            "[  1   2   3   4 108 108 108 108 108 108]\n"
          ]
        }
      ]
    },
    {
      "cell_type": "code",
      "source": [
        "a3 = np.array([1,2,3,4,5,6,7,8,9])\n",
        "a4 = np.array([11,22,33,4,4,44,55])\n",
        "\n",
        "print(a3)\n",
        "print(a4)\n",
        "print()\n",
        "\n",
        "a5= a3\n",
        "a6 = a4.copy()\n",
        "\n",
        "print(a5)\n",
        "print(a6)\n",
        "print()\n",
        "\n",
        "a5[3:] = 500\n",
        "a6[4:] = 98\n",
        "\n",
        "print(\"a3 \",a3)\n",
        "print(\"a4 \",a4)\n",
        "print(\"a5 \",a5)\n",
        "print(\"a6 \",a6)\n",
        "\n",
        "\n"
      ],
      "metadata": {
        "colab": {
          "base_uri": "https://localhost:8080/"
        },
        "id": "3tu8SFkTJJIE",
        "outputId": "d624dd2f-38d1-4d99-8826-fc01aaf88174"
      },
      "execution_count": 55,
      "outputs": [
        {
          "output_type": "stream",
          "name": "stdout",
          "text": [
            "[1 2 3 4 5 6 7 8 9]\n",
            "[11 22 33  4  4 44 55]\n",
            "\n",
            "[1 2 3 4 5 6 7 8 9]\n",
            "[11 22 33  4  4 44 55]\n",
            "\n",
            "a3  [  1   2   3 500 500 500 500 500 500]\n",
            "a4  [11 22 33  4  4 44 55]\n",
            "a5  [  1   2   3 500 500 500 500 500 500]\n",
            "a6  [11 22 33  4 98 98 98]\n"
          ]
        }
      ]
    },
    {
      "cell_type": "markdown",
      "source": [
        "some in-built functions"
      ],
      "metadata": {
        "id": "pb0Few4tRmNW"
      }
    },
    {
      "cell_type": "code",
      "source": [
        "p1 = np.zeros((2,3))       # array of zeros\n",
        "p2 = np.ones((3,2))        # array of ones\n",
        "p3 = np.arange(0,10,2)     # [0 2 4 6 8]\n",
        "p4 = np.linspace(0,1,5)    # [0. 0.25 0.5 0.75 1.]\n",
        "p5 = np.eye(3)             # identity matrix\n",
        "\n",
        "print(p1)\n",
        "print()\n",
        "print(p2)\n",
        "print()\n",
        "print(p3)\n",
        "print()\n",
        "print(p4)\n",
        "print()\n",
        "print(p5)"
      ],
      "metadata": {
        "colab": {
          "base_uri": "https://localhost:8080/"
        },
        "id": "peh4eFUMRi65",
        "outputId": "948dcac9-520c-470b-e0e3-cef4439004fa"
      },
      "execution_count": 60,
      "outputs": [
        {
          "output_type": "stream",
          "name": "stdout",
          "text": [
            "[[0. 0. 0.]\n",
            " [0. 0. 0.]]\n",
            "\n",
            "[[1. 1.]\n",
            " [1. 1.]\n",
            " [1. 1.]]\n",
            "\n",
            "[0 2 4 6 8]\n",
            "\n",
            "[0.   0.25 0.5  0.75 1.  ]\n",
            "\n",
            "[[1. 0. 0.]\n",
            " [0. 1. 0.]\n",
            " [0. 0. 1.]]\n"
          ]
        }
      ]
    },
    {
      "cell_type": "markdown",
      "source": [
        "Array Operations\n",
        "\n",
        "NumPy allows to do mathematical operations directly on arrays, just like with numbers — no loops needed."
      ],
      "metadata": {
        "id": "Enm4qhUmS7rg"
      }
    },
    {
      "cell_type": "code",
      "source": [
        "\n",
        "\n",
        "a = np.array([1, 2, 3, 4])\n",
        "b = np.array([5, 6, 7, 8])\n",
        "\n",
        "print(a + b)   # Addition\n",
        "print(a - b)   # Subtraction\n",
        "print(a * b)   # Element-wise Multiplication\n",
        "print(a / b)   # Division\n",
        "print(a ** 2)  # Power\n"
      ],
      "metadata": {
        "colab": {
          "base_uri": "https://localhost:8080/"
        },
        "id": "FXs7IQw0SxRW",
        "outputId": "dda2fec8-b074-44ed-f011-49289496553b"
      },
      "execution_count": 61,
      "outputs": [
        {
          "output_type": "stream",
          "name": "stdout",
          "text": [
            "[ 6  8 10 12]\n",
            "[-4 -4 -4 -4]\n",
            "[ 5 12 21 32]\n",
            "[0.2        0.33333333 0.42857143 0.5       ]\n",
            "[ 1  4  9 16]\n"
          ]
        }
      ]
    },
    {
      "cell_type": "markdown",
      "source": [
        "Scalar Operations"
      ],
      "metadata": {
        "id": "qDRRPKzKTMoj"
      }
    },
    {
      "cell_type": "code",
      "source": [
        "p = np.array([1, 2, 3])\n",
        "\n",
        "print(p + 5)   # [6 7 8]\n",
        "print(p * 10)  # [10 20 30]\n"
      ],
      "metadata": {
        "colab": {
          "base_uri": "https://localhost:8080/"
        },
        "id": "t6C4JMEBTN27",
        "outputId": "79e17272-c1ac-436a-fddb-9f4742366aea"
      },
      "execution_count": 63,
      "outputs": [
        {
          "output_type": "stream",
          "name": "stdout",
          "text": [
            "[6 7 8]\n",
            "[10 20 30]\n"
          ]
        }
      ]
    },
    {
      "cell_type": "markdown",
      "source": [
        "Matrix Operations"
      ],
      "metadata": {
        "id": "EfEXVhsETZJR"
      }
    },
    {
      "cell_type": "code",
      "source": [
        "x = np.array([[1, 2], [3, 4]])\n",
        "y = np.array([[5, 6], [7, 8]])\n",
        "\n",
        "print(np.dot(x, y))   # Matrix multiplication\n",
        "print()\n",
        "print(x @ y)          # Same as np.dot"
      ],
      "metadata": {
        "colab": {
          "base_uri": "https://localhost:8080/"
        },
        "id": "EnHHkZB-Tbni",
        "outputId": "270d4e2f-5bc5-490b-cd6e-debc73543c78"
      },
      "execution_count": 65,
      "outputs": [
        {
          "output_type": "stream",
          "name": "stdout",
          "text": [
            "[[19 22]\n",
            " [43 50]]\n",
            "\n",
            "[[19 22]\n",
            " [43 50]]\n"
          ]
        }
      ]
    },
    {
      "cell_type": "markdown",
      "source": [
        "Comparison Operations"
      ],
      "metadata": {
        "id": "IIJzR-UWTkeh"
      }
    },
    {
      "cell_type": "code",
      "source": [
        "c = np.array([10, 20, 30, 40])\n",
        "\n",
        "print(c > 20)     # [False False  True  True]\n",
        "print(c == 10)    # [ True False False False]\n"
      ],
      "metadata": {
        "colab": {
          "base_uri": "https://localhost:8080/"
        },
        "id": "-G3qlRq3Tl5H",
        "outputId": "6e366aca-62f2-4b7c-f09a-0decb5bd80de"
      },
      "execution_count": 66,
      "outputs": [
        {
          "output_type": "stream",
          "name": "stdout",
          "text": [
            "[False False  True  True]\n",
            "[ True False False False]\n"
          ]
        }
      ]
    },
    {
      "cell_type": "markdown",
      "source": [
        "Mathematical Functions"
      ],
      "metadata": {
        "id": "BtZ0wG5gTw8M"
      }
    },
    {
      "cell_type": "code",
      "source": [
        "arr = np.array([1, 2, 3, 4, 5])\n",
        "\n",
        "print(np.mean(arr))   # Average\n",
        "print(np.max(arr))    # Maximum\n",
        "print(np.min(arr))    # Minimum\n",
        "print(np.sum(arr))    # Sum\n",
        "print(np.sqrt(arr))   # Square root\n",
        "print(np.exp(arr))    # Exponential\n",
        "print(np.log(arr))    # Natural log\n"
      ],
      "metadata": {
        "colab": {
          "base_uri": "https://localhost:8080/"
        },
        "id": "J-fgI5uhTyWS",
        "outputId": "8381b98d-05d9-478a-ac01-3de0b6e4d4cd"
      },
      "execution_count": 67,
      "outputs": [
        {
          "output_type": "stream",
          "name": "stdout",
          "text": [
            "3.0\n",
            "5\n",
            "1\n",
            "15\n",
            "[1.         1.41421356 1.73205081 2.         2.23606798]\n",
            "[  2.71828183   7.3890561   20.08553692  54.59815003 148.4131591 ]\n",
            "[0.         0.69314718 1.09861229 1.38629436 1.60943791]\n"
          ]
        }
      ]
    },
    {
      "cell_type": "markdown",
      "source": [
        "indexing"
      ],
      "metadata": {
        "id": "nKH0wwmBUTbs"
      }
    },
    {
      "cell_type": "markdown",
      "source": [
        "1D array"
      ],
      "metadata": {
        "id": "LLlEBozcUYsg"
      }
    },
    {
      "cell_type": "code",
      "source": [
        "\n",
        "\n",
        "arr = np.array([10, 20, 30, 40, 50])\n",
        "\n",
        "print(arr[0])   # First element → 10\n",
        "print(arr[-1])  # Last element → 50\n",
        "\n",
        "arr[2] = 99\n",
        "print(arr)  # [10 20 99 40 50]\n",
        "\n"
      ],
      "metadata": {
        "colab": {
          "base_uri": "https://localhost:8080/"
        },
        "id": "c-WzB9YEUduy",
        "outputId": "972478dc-ae6a-45d6-b895-732e99bc267c"
      },
      "execution_count": 69,
      "outputs": [
        {
          "output_type": "stream",
          "name": "stdout",
          "text": [
            "10\n",
            "50\n",
            "[10 20 99 40 50]\n"
          ]
        }
      ]
    },
    {
      "cell_type": "markdown",
      "source": [
        "Slicing (1D Arrays)"
      ],
      "metadata": {
        "id": "2aRBbbNyUmW4"
      }
    },
    {
      "cell_type": "code",
      "source": [
        "arr = np.array([10, 20, 30, 40, 50, 60])\n",
        "\n",
        "print(arr[1:4])   # Elements from index 1 to 3 → [20 30 40]\n",
        "print(arr[:3])    # First 3 elements → [10 20 30]\n",
        "print(arr[3:])    # From index 3 to end → [40 50 60]\n",
        "print(arr[::2])   # Every 2nd element → [10 30 50]\n"
      ],
      "metadata": {
        "colab": {
          "base_uri": "https://localhost:8080/"
        },
        "id": "t_sLI4cjUpE_",
        "outputId": "51b31e82-996a-4a22-c3df-380600b50be1"
      },
      "execution_count": 70,
      "outputs": [
        {
          "output_type": "stream",
          "name": "stdout",
          "text": [
            "[20 30 40]\n",
            "[10 20 30]\n",
            "[40 50 60]\n",
            "[10 30 50]\n"
          ]
        }
      ]
    },
    {
      "cell_type": "markdown",
      "source": [
        "Indexing (2D Arrays)"
      ],
      "metadata": {
        "id": "yy4_ZCDqUwuc"
      }
    },
    {
      "cell_type": "code",
      "source": [
        "b = np.array([[10, 20, 30],\n",
        "              [40, 50, 60],\n",
        "              [70, 80, 90]])\n",
        "\n",
        "print(b[0, 1])   # Row 0, Column 1 → 20\n",
        "print(b[2, 2])   # Row 2, Column 2 → 90\n",
        "\n",
        "b[1, 1] = 999\n",
        "print(b)\n",
        "\n"
      ],
      "metadata": {
        "colab": {
          "base_uri": "https://localhost:8080/"
        },
        "id": "jjQC6R3vUzpk",
        "outputId": "4f800ab7-f108-4468-af29-ac7bbfc40416"
      },
      "execution_count": 71,
      "outputs": [
        {
          "output_type": "stream",
          "name": "stdout",
          "text": [
            "20\n",
            "90\n",
            "[[ 10  20  30]\n",
            " [ 40 999  60]\n",
            " [ 70  80  90]]\n"
          ]
        }
      ]
    },
    {
      "cell_type": "markdown",
      "source": [
        "Slicing (2D Arrays)"
      ],
      "metadata": {
        "id": "Mt4Zc4cuU5y9"
      }
    },
    {
      "cell_type": "code",
      "source": [
        "b = np.array([[1, 2, 3],\n",
        "              [4, 5, 6],\n",
        "              [7, 8, 9]])\n",
        "\n",
        "print(b[0:2, 1:3])   # Rows 0–1, Cols 1–2 → [[2 3] [5 6]]\n",
        "print(b[:, 1])       # All rows, column 1 → [2 5 8]\n",
        "print(b[1, :])       # Row 1, all columns → [4 5 6]\n"
      ],
      "metadata": {
        "colab": {
          "base_uri": "https://localhost:8080/"
        },
        "id": "JVak4CfoU7Po",
        "outputId": "e9a55bf1-283d-4c1f-959a-6053658c7848"
      },
      "execution_count": 72,
      "outputs": [
        {
          "output_type": "stream",
          "name": "stdout",
          "text": [
            "[[2 3]\n",
            " [5 6]]\n",
            "[2 5 8]\n",
            "[4 5 6]\n"
          ]
        }
      ]
    },
    {
      "cell_type": "markdown",
      "source": [
        "Boolean Indexing"
      ],
      "metadata": {
        "id": "QfxX9swVVCUf"
      }
    },
    {
      "cell_type": "code",
      "source": [
        "arr = np.array([10, 20, 30, 40, 50])\n",
        "\n",
        "print(arr[arr > 25])   # [30 40 50]\n",
        "print(arr[arr % 20 == 0])  # [20 40]\n"
      ],
      "metadata": {
        "colab": {
          "base_uri": "https://localhost:8080/"
        },
        "id": "eqBfybN9VD1D",
        "outputId": "c4fbbc7f-6a7e-4331-e2af-3dd921c2a6a9"
      },
      "execution_count": 73,
      "outputs": [
        {
          "output_type": "stream",
          "name": "stdout",
          "text": [
            "[30 40 50]\n",
            "[20 40]\n"
          ]
        }
      ]
    },
    {
      "cell_type": "markdown",
      "source": [
        "linspace n arrange"
      ],
      "metadata": {
        "id": "lkenUeFQVt_h"
      }
    },
    {
      "cell_type": "markdown",
      "source": [
        "\n",
        "arange(start, stop, step)\n",
        "\n",
        "linspace(start, stop, num)"
      ],
      "metadata": {
        "id": "oVJFFl6lVY4F"
      }
    },
    {
      "cell_type": "code",
      "source": [
        "print(np.arange(0, 10, 2))  # [0 2 4 6 8]\n",
        "print(np.linspace(0, 1, 5)) # [0.   0.25 0.5  0.75 1.  ]\n"
      ],
      "metadata": {
        "colab": {
          "base_uri": "https://localhost:8080/"
        },
        "id": "OOQL69rbVWes",
        "outputId": "311bacaf-94b3-4c8b-e1ed-6cebda8a05a9"
      },
      "execution_count": 74,
      "outputs": [
        {
          "output_type": "stream",
          "name": "stdout",
          "text": [
            "[0 2 4 6 8]\n",
            "[0.   0.25 0.5  0.75 1.  ]\n"
          ]
        }
      ]
    }
  ]
}